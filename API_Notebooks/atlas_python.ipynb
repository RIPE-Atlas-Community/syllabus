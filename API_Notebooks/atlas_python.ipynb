{
 "cells": [
  {
   "cell_type": "markdown",
   "metadata": {},
   "source": [
    "# Atlas API (v2)\n",
    "\n",
    "\n",
    "* [API overview](https://atlas.ripe.net/docs/api/v2/manual/overview/)\n",
    "\n",
    "* [API reference](https://atlas.ripe.net/docs/api/v2/reference/)\n",
    "* [API keys](https://atlas.ripe.net/docs/keys/)\n",
    "> You can use the API as an anonymous user to request only publicly available information\n",
    "  To create measurements and to see information about your own probes, you will have to \n",
    "  identify yourself to RIPE Atlas. One of the ways is the API keys. You can get them yourself.\n",
    "  First you have to [create an Atlas account](https://access.ripe.net/registration) and then [generate your keys](https://atlas.ripe.net/keys/)\n",
    "   \n",
    " > an API key can be provided in the query string like `key=427e1e6c-d3b5-428e-a33f-81ed1d18e402`\n",
    " \n",
    " > **you will need to specify it below to make all examples working**\n",
    "   \n",
    "* [Probe API](#probe_api)\n",
    " - [Request all probes metadata](#probe_api_all)\n",
    " - [Get a probe by ID](#probe_api_byid)\n",
    " - [Request probes within 10km radius of Amsterdam](#probe_api_radius)\n",
    " - [Get online working native IPv6 probes](#probe_api_tags)\n",
    " \n",
    "* [Measurements API](#msm_api)\n",
    " - [Get my measurements definitions applying filters and options](#msm_get_my)\n",
    " - [Create a measurement](#msm_create_oneoff)\n",
    " - [Getting measurement results](#msm_get_results)\n",
    "* [Python libraries for RIPE Atlas API](#python_libs)\n",
    " - [**Cousteau** - RIPE Atlas API Python wrapper](http://ripe-atlas-cousteau.readthedocs.io/en/latest/)\n",
    "> This is an official package for accessing RIPE Atlas API. Maintained by RIPE Atlas developers.\n",
    "[**Cousteau** GitHub](https://github.com/RIPE-NCC/ripe-atlas-cousteau)\n",
    "\n",
    " - [**Sagan** - Parsing library for RIPE Atlas measurement results](https://ripe-atlas-sagan.readthedocs.io/en/latest/)\n",
    " > This is an official package for parsing RIPE Atlas measurement results. Maintained by RIPE Atlas developers.\n",
    "[**Sagan** GitHub](https://github.com/RIPE-NCC/ripe.atlas.sagan)\n",
    "\n",
    " - [Create a measurement using **Cousteau**](#msm_create_oneoff_cousteau)\n",
    " - [Streaming results using **Cousteau**](#msm_stream_cousteau)\n",
    " - [Parsing results using **Sagan**](#msm_parsing_sagan)"
   ]
  },
  {
   "cell_type": "code",
   "execution_count": null,
   "metadata": {
    "collapsed": true
   },
   "outputs": [],
   "source": [
    "# import some useful stuff\n",
    "from IPython.display import display\n",
    "import requests\n",
    "import json\n",
    "\n",
    "# your API key\n",
    "key=\"<your api key>\""
   ]
  },
  {
   "cell_type": "markdown",
   "metadata": {},
   "source": [
    "<a id='probe_api'></a>\n",
    "## Probe API"
   ]
  },
  {
   "cell_type": "markdown",
   "metadata": {},
   "source": [
    "<a id='probe_api_all'></a>\n",
    "### Request all probes metadata"
   ]
  },
  {
   "cell_type": "code",
   "execution_count": null,
   "metadata": {
    "collapsed": false,
    "scrolled": true
   },
   "outputs": [],
   "source": [
    "r = requests.get('https://atlas.ripe.net/api/v2/probes/')\n",
    "probe_data = r.json()\n",
    "\n",
    "print \"Total probes: {}\".format(probe_data['count'])\n",
    "# get first probe from the list and display it\n",
    "print \"Metadata of probe #{}:\".format(probe_data['results'][1][\"id\"])\n",
    "display(probe_data['results'][1])\n"
   ]
  },
  {
   "cell_type": "markdown",
   "metadata": {
    "slideshow": {
     "slide_type": "-"
    }
   },
   "source": [
    "<a id='probe_api_byid'></a>\n",
    "### Get a probe by ID"
   ]
  },
  {
   "cell_type": "code",
   "execution_count": null,
   "metadata": {
    "collapsed": false,
    "scrolled": true
   },
   "outputs": [],
   "source": [
    "r = requests.get('https://atlas.ripe.net/api/v2/probes/22344')\n",
    "display(r.json())"
   ]
  },
  {
   "cell_type": "markdown",
   "metadata": {},
   "source": [
    "<a id='probe_api_radius'></a>\n",
    "### Request probes within 10km radius of Amsterdam\n",
    "\n",
    "> **Hint!** if you click on the URL you will be able to browse the API"
   ]
  },
  {
   "cell_type": "code",
   "execution_count": null,
   "metadata": {
    "collapsed": false
   },
   "outputs": [],
   "source": [
    "lat, lon = (52.36, 4.9) # latitude and longitude in degrees\n",
    "radius = 10             # radius in km\n",
    "\n",
    "r = requests.get('https://atlas.ripe.net:443/api/v2/probes/?radius={},{}:{}'.format(lat, lon, radius))\n",
    "print \"The URL is {}\".format(r.url)\n",
    "probe_data = r.json()\n",
    "print \"Total probes inside 10km radius near Amsterdam: {}\".format(probe_data['count'])\n"
   ]
  },
  {
   "cell_type": "markdown",
   "metadata": {
    "collapsed": true
   },
   "source": [
    "<a id='probe_api_tags'></a>\n",
    "### Get online working native IPv6 probes"
   ]
  },
  {
   "cell_type": "code",
   "execution_count": null,
   "metadata": {
    "collapsed": false
   },
   "outputs": [],
   "source": [
    "# specify tags\n",
    "tags = [\"system-ipv6-works\", \"native-ipv6\"]\n",
    "\n",
    "# returns online working native IPv6 probes\n",
    "r = requests.get('https://atlas.ripe.net/api/v2/probes/',\n",
    "    params=dict(\n",
    "        status=1,\n",
    "        tags=\",\".join(tags)\n",
    "    )\n",
    ")\n",
    "print \"The URL is {}\".format(r.url)\n",
    "probe_data = r.json()\n",
    "print \"Number of online working native IPv6 probes: {}\".format(probe_data['count'])\n"
   ]
  },
  {
   "cell_type": "markdown",
   "metadata": {},
   "source": [
    "<a id='msm_api'></a>\n",
    "# Measurements API"
   ]
  },
  {
   "cell_type": "markdown",
   "metadata": {},
   "source": [
    "<a id='msm_get_my'></a>\n",
    "## Get my measurements definitions applying filters and options"
   ]
  },
  {
   "cell_type": "code",
   "execution_count": null,
   "metadata": {
    "collapsed": false
   },
   "outputs": [],
   "source": [
    "r = requests.get('https://atlas.ripe.net/api/v2/measurements/my/',\n",
    "    params = dict(   \n",
    "        page_size=3,              # Get first 3 definitions\n",
    "        page=1,                   #   from page1\n",
    "        af=6,                     # filter for IPv6 measurements\n",
    "        sort=\"-id\",               # apply reverse sorting by measurement id\n",
    "        fields='type,target,af',  # show only measurement type and target fields\n",
    "        optional_fields='participation_requests', # include optional fields\n",
    "        key=key\n",
    "    )\n",
    ")\n",
    "display(r.json())"
   ]
  },
  {
   "cell_type": "markdown",
   "metadata": {},
   "source": [
    "<a id='msm_create_oneoff'></a>\n",
    "## Create a measurement"
   ]
  },
  {
   "cell_type": "code",
   "execution_count": null,
   "metadata": {
    "collapsed": false
   },
   "outputs": [],
   "source": [
    "#POST /api/v2/measurements/\n",
    "\n",
    "msm_def = dict(\n",
    "    is_oneoff=True,\n",
    "    definitions=[\n",
    "        dict(\n",
    "            description='ping to xs4all',\n",
    "            af=4,\n",
    "            type='ping',\n",
    "            target='ping.xs4all.nl'\n",
    "        )\n",
    "    ],\n",
    "    probes=[\n",
    "        dict(\n",
    "            action='add',\n",
    "            type='area',\n",
    "            value='West',\n",
    "            requested=5\n",
    "            \n",
    "        ),\n",
    "        dict(\n",
    "            action='add',\n",
    "            type='country',\n",
    "            value='NL',\n",
    "            requested=3 \n",
    "        )\n",
    "    ]\n",
    ")\n",
    "\n",
    "r = requests.post(\n",
    "    'https://atlas.ripe.net/api/v2/measurements/',\n",
    "    params = {'key': key},\n",
    "    data=json.dumps(msm_def),\n",
    "    headers = {\"Content-Type\": \"application/json\"}\n",
    ")\n",
    "\n",
    "# expected result:\n",
    "# {u'measurements': [4599188]}\n",
    "\n",
    "print r.text\n",
    "measurements = r.json()['measurements']"
   ]
  },
  {
   "cell_type": "code",
   "execution_count": null,
   "metadata": {
    "collapsed": false
   },
   "outputs": [],
   "source": [
    "print \"Getting new measurement metadata\"\n",
    "\n",
    "r = requests.get(\n",
    "    'https://atlas.ripe.net/api/v2/measurements/{}/'.format(measurements[0]),\n",
    "    params = dict(   \n",
    "        optional_fields='participation_requests', # include optional fields\n",
    "        key=key\n",
    "    )\n",
    ")\n",
    "display(r.json())"
   ]
  },
  {
   "cell_type": "markdown",
   "metadata": {},
   "source": [
    "<a id='msm_get_results'></a>\n",
    "## Getting measurement results"
   ]
  },
  {
   "cell_type": "code",
   "execution_count": null,
   "metadata": {
    "collapsed": false,
    "scrolled": false
   },
   "outputs": [],
   "source": [
    "\n",
    "r = requests.get(\n",
    "    'https://atlas.ripe.net/api/v2/measurements/{}/results'.format(measurements[0])\n",
    ")\n",
    "\n",
    "display(r.json())"
   ]
  },
  {
   "cell_type": "markdown",
   "metadata": {},
   "source": [
    "<a id='python_libs'></a>\n",
    "# Python libraries for RIPE ATLAS API\n"
   ]
  },
  {
   "cell_type": "markdown",
   "metadata": {},
   "source": [
    " <a id='msm_stream_cousteau'></a>\n",
    "## Create a measurement using **Cousteau**\n",
    "> create the same measurement as in the example above"
   ]
  },
  {
   "cell_type": "code",
   "execution_count": null,
   "metadata": {
    "collapsed": false
   },
   "outputs": [],
   "source": [
    "from ripe.atlas.cousteau import Ping, AtlasSource, AtlasCreateRequest\n",
    "\n",
    "# measurement definition\n",
    "ping = Ping(af=4, target=\"www.google.gr\", description=\"testing new wrapper\")\n",
    "# measurement sources\n",
    "source_area = AtlasSource(type=\"area\", value=\"West\", requested=5)\n",
    "source_country = AtlasSource(type=\"country\", value=\"NL\", requested=3)\n",
    "\n",
    "atlas_request = AtlasCreateRequest(\n",
    "    key=key,\n",
    "    measurements=[ping],\n",
    "    sources=[source_area, source_country],\n",
    "    is_oneoff=True\n",
    ")\n",
    "\n",
    "(is_success, response) = atlas_request.create()\n",
    "display(is_success, response)"
   ]
  },
  {
   "cell_type": "markdown",
   "metadata": {},
   "source": [
    " <a id='msm_create_oneoff_cousteau'></a>\n",
    "## Streaming results using **Cousteau**"
   ]
  },
  {
   "cell_type": "code",
   "execution_count": null,
   "metadata": {
    "collapsed": false
   },
   "outputs": [],
   "source": [
    "from ripe.atlas.cousteau import AtlasStream\n",
    "\n",
    "def on_result_response(*args):\n",
    "    \"\"\"\n",
    "    Function that will be called every time we receive a new result.\n",
    "    Args is a tuple, so you should use args[0] to access the real message.\n",
    "    \"\"\"\n",
    "    display(args[0])\n",
    "\n",
    "atlas_stream = AtlasStream()\n",
    "atlas_stream.connect()\n",
    "# Measurement results\n",
    "channel = \"result\"\n",
    "# Bind function we want to run with every result message received\n",
    "atlas_stream.bind_channel(channel, on_result_response)\n",
    "# Subscribe to new stream for 1001 measurement results\n",
    "stream_parameters = {\"msm\": 1001}\n",
    "atlas_stream.start_stream(stream_type=\"result\", **stream_parameters)\n",
    "\n",
    "# Probe's connection status results\n",
    "channel = \"probe\"\n",
    "atlas_stream.bind_channel(channel, on_result_response)\n",
    "stream_parameters = {\"enrichProbes\": True}\n",
    "atlas_stream.start_stream(stream_type=\"probestatus\", **stream_parameters)\n",
    "\n",
    "# Execution blocks here for 5 seconds to allow receiving results and pass it\n",
    "# to callback: on_result_response()\n",
    "# if you want to block forever use timeout() without arguments\n",
    "atlas_stream.timeout(seconds=5)\n",
    "# Shut down everything\n",
    "atlas_stream.disconnect()"
   ]
  },
  {
   "cell_type": "markdown",
   "metadata": {},
   "source": [
    " <a id='msm_parsing_sagan'></a>\n",
    "## Parsing results using **Sagan**"
   ]
  },
  {
   "cell_type": "code",
   "execution_count": null,
   "metadata": {
    "collapsed": false
   },
   "outputs": [],
   "source": [
    "from datetime import datetime\n",
    "from ripe.atlas.cousteau import AtlasResultsRequest\n",
    "from ripe.atlas.sagan import Result\n",
    "\n",
    "# specify what should be requested\n",
    "result_request = AtlasResultsRequest(\n",
    "    msm_id=1001,         # measurement of interest\n",
    "    probe_ids=[1,2,3,4],  # probes of interest\n",
    "    # time interval\n",
    "    start=datetime(2016, 5, 19, 0, 0, 0),\n",
    "    stop=datetime(2016, 5, 19, 0, 10, 0)\n",
    ")\n",
    "\n",
    "# fetch it\n",
    "is_success, results = result_request.create()\n",
    "\n",
    "# process received data\n",
    "if is_success:\n",
    "    # loop over received results\n",
    "    print \"{:^20} {:^12}\".format(\"Origin\", \"Average RTT\")\n",
    "    for result in results:\n",
    "        # and parse it\n",
    "        r = Result.get(result)\n",
    "        print \"{:<20} {:12.3f}\".format(r.origin, r.rtt_average)"
   ]
  },
  {
   "cell_type": "code",
   "execution_count": null,
   "metadata": {
    "collapsed": true
   },
   "outputs": [],
   "source": []
  }
 ],
 "metadata": {
  "kernelspec": {
   "display_name": "Python 2",
   "language": "python",
   "name": "python2"
  },
  "language_info": {
   "codemirror_mode": {
    "name": "ipython",
    "version": 2
   },
   "file_extension": ".py",
   "mimetype": "text/x-python",
   "name": "python",
   "nbconvert_exporter": "python",
   "pygments_lexer": "ipython2",
   "version": "2.7.9"
  }
 },
 "nbformat": 4,
 "nbformat_minor": 0
}
